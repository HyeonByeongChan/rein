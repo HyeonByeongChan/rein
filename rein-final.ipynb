{
 "cells": [
  {
   "cell_type": "code",
   "execution_count": 15,
   "metadata": {},
   "outputs": [
    {
     "name": "stdout",
     "output_type": "stream",
     "text": [
      "Building dimensions (Depth, Height, Width): (2, 50, 50)\n"
     ]
    },
    {
     "data": {
      "image/png": "[encoded data removed]",
      "text/plain": [
       "<Figure size 640x480 with 1 Axes>"
      ]
     },
     "metadata": {},
     "output_type": "display_data"
    },
    {
     "data": {
      "image/png": "[encoded data removed]",
      "text/plain": [
       "<Figure size 640x480 with 1 Axes>"
      ]
     },
     "metadata": {},
     "output_type": "display_data"
    }
   ],
   "source": [
    "import cv2\n",
    "import numpy as np\n",
    "import matplotlib.pyplot as plt\n",
    "\n",
    "def process_floor_plan(image_path, target_size):\n",
    "    img = cv2.imread(image_path, cv2.IMREAD_GRAYSCALE)\n",
    "    \n",
    "    if img is None:\n",
    "        raise FileNotFoundError(f\"Cannot load image: {image_path}\")\n",
    "    \n",
    "    img = cv2.resize(img, target_size)\n",
    "    _, thresh = cv2.threshold(img, 128, 255, cv2.THRESH_BINARY_INV)\n",
    "    contours, _ = cv2.findContours(thresh, cv2.RETR_EXTERNAL, cv2.CHAIN_APPROX_SIMPLE)\n",
    "    \n",
    "    h, w = img.shape\n",
    "    floor_plan = np.zeros((h, w), dtype=int)\n",
    "    \n",
    "    for contour in contours:\n",
    "        cv2.drawContours(floor_plan, [contour], -1, 1, thickness=cv2.FILLED)\n",
    "    \n",
    "    return floor_plan\n",
    "\n",
    "def process_building(floor_plan_paths, target_size):\n",
    "    floors = [process_floor_plan(path, target_size) for path in floor_plan_paths]\n",
    "    building = np.stack(floors, axis=0)\n",
    "    return building\n",
    "\n",
    "# 예제 사용법\n",
    "# floor_plan_paths = [\"floor1.jpg\", \"floor2.jpg\", \"floor3.jpg\"]\n",
    "floor_plan_paths = [\"floor11.png\", \"floor22.png\"]\n",
    "target_size = (50, 50)\n",
    "\n",
    "try:\n",
    "    eval = process_building(floor_plan_paths, target_size)\n",
    "    \n",
    "    # 배열의 높이, 너비, 크기를 확인합니다.\n",
    "    height, width = target_size\n",
    "    depth = len(floor_plan_paths)\n",
    "    \n",
    "    print(f\"Building dimensions (Depth, Height, Width): ({depth}, {height}, {width})\")\n",
    "    \n",
    "    # 배열 전체를 출력합니다.\n",
    "    for d in range(depth):\n",
    "        plt.figure()\n",
    "        plt.imshow(eval[d], cmap='gray', interpolation='none')\n",
    "        plt.title(f'Floor {d + 1}')\n",
    "        plt.axis('off')  # 축을 숨깁니다.\n",
    "        plt.show()\n",
    "    \n",
    "except FileNotFoundError as e:\n",
    "    print(e)"
   ]
  },
  {
   "cell_type": "code",
   "execution_count": 2,
   "metadata": {},
   "outputs": [],
   "source": [
    "import numpy as np\n",
    "import random\n",
    "import torch\n",
    "import torch.nn as nn\n",
    "import torch.optim as optim\n",
    "from torch.distributions import Categorical\n",
    "from tqdm import tqdm\n",
    "import matplotlib.pyplot as plt\n",
    "\n",
    "# 랜덤한 환경 생성 함수\n",
    "def create_random_environment(shape, num_obstacles):\n",
    "    env = np.zeros(shape)\n",
    "    for _ in range(num_obstacles):\n",
    "        layer = np.random.randint(0, shape[0])\n",
    "        start_row = np.random.randint(0, shape[1] - 10)\n",
    "        start_col = np.random.randint(0, shape[2] - 10)\n",
    "        direction = np.random.choice(['horizontal', 'vertical'])\n",
    "        \n",
    "        if direction == 'horizontal':\n",
    "            env[layer, start_row, start_col:start_col + 10] = 1\n",
    "        else:\n",
    "            env[layer, start_row:start_row + 10, start_col] = 1\n",
    "    \n",
    "    return env\n",
    "\n",
    "# 랜덤한 가상환경 10개 생성\n",
    "num_environments = 10\n",
    "environments = []\n",
    "\n",
    "for _ in range(num_environments):\n",
    "    env_shape = (3, 50, 50)\n",
    "    num_obstacles = np.random.randint(5, 15)  # 장애물의 개수를 랜덤하게 설정\n",
    "    new_environment = create_random_environment(env_shape, num_obstacles)\n",
    "    environments.append(new_environment)"
   ]
  },
  {
   "cell_type": "code",
   "execution_count": 3,
   "metadata": {},
   "outputs": [],
   "source": [
    "import numpy as np\n",
    "import random\n",
    "import torch\n",
    "import torch.nn as nn\n",
    "import torch.optim as optim\n",
    "from torch.distributions import Categorical\n",
    "from tqdm import tqdm\n",
    "import matplotlib.pyplot as plt\n",
    "\n",
    "# 환경 클래스 정의\n",
    "class GridEnvironment:\n",
    "    def __init__(self, building):\n",
    "        self.building = building\n",
    "        self.dimensions = building.shape\n",
    "        self.start_position = self.get_random_start_position()\n",
    "        self.agent_position = self.start_position\n",
    "        self.exit_position = (0, 0, 0)\n",
    "\n",
    "    def get_random_start_position(self):\n",
    "        while True:\n",
    "            position = (random.randint(0, self.dimensions[0] - 1),\n",
    "                        random.randint(0, self.dimensions[1] - 1),\n",
    "                        random.randint(0, self.dimensions[2] - 1))\n",
    "            if self.building[position] == 0:\n",
    "                return position\n",
    "\n",
    "    def reset(self):\n",
    "        self.agent_position = self.get_random_start_position()\n",
    "        return self.agent_position\n",
    "\n",
    "    def step(self, action):\n",
    "        new_position = list(self.agent_position)\n",
    "        if action == 0:  # 상\n",
    "            new_position[1] -= 1\n",
    "        elif action == 1:  # 하\n",
    "            new_position[1] += 1\n",
    "        elif action == 2:  # 좌\n",
    "            new_position[2] -= 1\n",
    "        elif action == 3:  # 우\n",
    "            new_position[2] += 1\n",
    "        elif action == 4:  # 위층\n",
    "            new_position[0] -= 1\n",
    "        elif action == 5:  # 아래층\n",
    "            new_position[0] += 1\n",
    "\n",
    "        # 범위를 벗어나지 않도록 처리\n",
    "        new_position[0] = np.clip(new_position[0], 0, self.dimensions[0] - 1)\n",
    "        new_position[1] = np.clip(new_position[1], 0, self.dimensions[1] - 1)\n",
    "        new_position[2] = np.clip(new_position[2], 0, self.dimensions[2] - 1)\n",
    "        \n",
    "        new_position = tuple(new_position)\n",
    "\n",
    "        if self.building[new_position] == 1:\n",
    "            reward = -5  # 부정적 보상 감소\n",
    "            done = False\n",
    "        elif new_position == self.exit_position:\n",
    "            reward = 50  # 긍정적 보상 감소\n",
    "            done = True\n",
    "        else:\n",
    "            old_distance = np.linalg.norm(np.array(self.agent_position) - np.array(self.exit_position))\n",
    "            new_distance = np.linalg.norm(np.array(new_position) - np.array(self.exit_position))\n",
    "            distance_change = old_distance - new_distance\n",
    "            reward = -1\n",
    "            if distance_change > 0:\n",
    "                reward += distance_change * 5  # 추가 보상 증가\n",
    "            done = False\n",
    "            self.agent_position = new_position\n",
    "\n",
    "        return new_position, reward, done\n",
    "\n",
    "class PPOPolicy(nn.Module):\n",
    "    def __init__(self, input_dim, output_dim):\n",
    "        super(PPOPolicy, self).__init__()\n",
    "        self.fc1 = nn.Linear(input_dim, 128)\n",
    "        self.fc2 = nn.Linear(128, 128)\n",
    "        self.fc3 = nn.Linear(128, output_dim)\n",
    "\n",
    "    def forward(self, x):\n",
    "        x = torch.relu(self.fc1(x))\n",
    "        x = torch.relu(self.fc2(x))\n",
    "        x = self.fc3(x)\n",
    "        return torch.softmax(x, dim=-1)\n",
    "\n",
    "class ValueNetwork(nn.Module):\n",
    "    def __init__(self, input_dim):\n",
    "        super(ValueNetwork, self).__init__()\n",
    "        self.fc1 = nn.Linear(input_dim, 128)\n",
    "        self.fc2 = nn.Linear(128, 128)\n",
    "        self.fc3 = nn.Linear(128, 1)\n",
    "\n",
    "    def forward(self, x):\n",
    "        x = torch.relu(self.fc1(x))\n",
    "        x = torch.relu(self.fc2(x))\n",
    "        x = self.fc3(x)\n",
    "        return x\n",
    "\n",
    "# PPO 알고리즘 클래스 정의\n",
    "class PPO:\n",
    "    def __init__(self, policy, value, policy_lr=1e-7, value_lr=1e-7, gamma=0.90, clip_ratio=0.2, device='cpu'):\n",
    "        self.policy = policy.to(device)\n",
    "        self.value = value.to(device)\n",
    "        self.policy_optimizer = optim.Adam(self.policy.parameters(), lr=policy_lr)\n",
    "        self.value_optimizer = optim.Adam(self.value.parameters(), lr=value_lr)\n",
    "        self.gamma = gamma\n",
    "        self.clip_ratio = clip_ratio\n",
    "        self.device = device\n",
    "\n",
    "    def select_action(self, state):\n",
    "        state = torch.FloatTensor(state).unsqueeze(0).to(self.device)\n",
    "        probs = self.policy(state)\n",
    "        dist = Categorical(probs)\n",
    "        action = dist.sample()\n",
    "        return action.item(), dist.log_prob(action)\n",
    "\n",
    "    def compute_returns(self, rewards, masks):\n",
    "        returns = []\n",
    "        R = 0\n",
    "        for reward, mask in zip(reversed(rewards), reversed(masks)):\n",
    "            R = reward + self.gamma * R * mask\n",
    "            returns.insert(0, R)\n",
    "        return returns\n",
    "\n",
    "    def update(self, trajectories):\n",
    "        states = torch.FloatTensor([traj[0] for traj in trajectories]).to(self.device)\n",
    "        actions = torch.LongTensor([traj[1] for traj in trajectories]).unsqueeze(1).to(self.device)\n",
    "        old_log_probs = torch.cat([traj[2] for traj in trajectories]).to(self.device).detach()\n",
    "        rewards = [traj[3] for traj in trajectories]\n",
    "        masks = [traj[4] for traj in trajectories]\n",
    "\n",
    "        returns = self.compute_returns(rewards, masks)\n",
    "        returns = torch.FloatTensor(returns).unsqueeze(1).to(self.device)\n",
    "\n",
    "        values = self.value(states)\n",
    "        advantages = (returns - values).detach()\n",
    "\n",
    "        for _ in range(10):  # 10번 업데이트\n",
    "            log_probs = self.policy(states).gather(1, actions)\n",
    "            ratio = torch.exp(log_probs - old_log_probs)\n",
    "\n",
    "            surr1 = ratio * advantages\n",
    "            surr2 = torch.clamp(ratio, 1 - self.clip_ratio, 1 + self.clip_ratio) * advantages\n",
    "            policy_loss = -torch.min(surr1, surr2).mean()\n",
    "\n",
    "            self.policy_optimizer.zero_grad()\n",
    "            policy_loss.backward()\n",
    "            self.policy_optimizer.step()\n",
    "\n",
    "            value_loss = (returns - self.value(states)).pow(2).mean()\n",
    "\n",
    "            self.value_optimizer.zero_grad()\n",
    "            value_loss.backward()\n",
    "            self.value_optimizer.step()\n",
    "\n",
    "# CUDA 설정\n",
    "device = torch.device(\"cuda\" if torch.cuda.is_available() else \"cpu\")\n",
    "\n",
    "# PPO 초기화\n",
    "input_dim = 3  # 에이전트의 위치는 3차원\n",
    "output_dim = 6  # 행동은 6가지 (상, 하, 좌, 우, 위층, 아래층)\n",
    "policy = PPOPolicy(input_dim, output_dim)\n",
    "value = ValueNetwork(input_dim)\n",
    "ppo = PPO(policy, value, device=device)"
   ]
  },
  {
   "cell_type": "code",
   "execution_count": 4,
   "metadata": {},
   "outputs": [
    {
     "name": "stderr",
     "output_type": "stream",
     "text": [
      "  0%|                                                                               | 1/5000 [00:01<1:48:18,  1.30s/it]"
     ]
    },
    {
     "name": "stdout",
     "output_type": "stream",
     "text": [
      "Episode 0, Steps 699, Reward -0.1742430504416017\n"
     ]
    },
    {
     "name": "stderr",
     "output_type": "stream",
     "text": [
      "  2%|█▌                                                                           | 101/5000 [02:13<1:52:48,  1.38s/it]"
     ]
    },
    {
     "name": "stdout",
     "output_type": "stream",
     "text": [
      "Episode 100, Steps 699, Reward 2.6313197921648666\n"
     ]
    },
    {
     "name": "stderr",
     "output_type": "stream",
     "text": [
      "  4%|███                                                                          | 201/5000 [04:32<2:01:57,  1.52s/it]"
     ]
    },
    {
     "name": "stdout",
     "output_type": "stream",
     "text": [
      "Episode 200, Steps 699, Reward 3.174258695120443\n"
     ]
    },
    {
     "name": "stderr",
     "output_type": "stream",
     "text": [
      "  6%|████▋                                                                        | 301/5000 [07:21<2:27:07,  1.88s/it]"
     ]
    },
    {
     "name": "stdout",
     "output_type": "stream",
     "text": [
      "Episode 300, Steps 699, Reward -1\n"
     ]
    },
    {
     "name": "stderr",
     "output_type": "stream",
     "text": [
      "  8%|██████▏                                                                      | 401/5000 [10:05<2:03:32,  1.61s/it]"
     ]
    },
    {
     "name": "stdout",
     "output_type": "stream",
     "text": [
      "Episode 400, Steps 699, Reward 0.18033988749894903\n"
     ]
    },
    {
     "name": "stderr",
     "output_type": "stream",
     "text": [
      " 10%|███████▋                                                                     | 501/5000 [12:44<1:57:00,  1.56s/it]"
     ]
    },
    {
     "name": "stdout",
     "output_type": "stream",
     "text": [
      "Episode 500, Steps 699, Reward 2.7830382563086573\n"
     ]
    },
    {
     "name": "stderr",
     "output_type": "stream",
     "text": [
      " 12%|█████████▎                                                                   | 601/5000 [15:18<1:57:28,  1.60s/it]"
     ]
    },
    {
     "name": "stdout",
     "output_type": "stream",
     "text": [
      "Episode 600, Steps 699, Reward 2.5528810864600047\n"
     ]
    },
    {
     "name": "stderr",
     "output_type": "stream",
     "text": [
      " 14%|██████████▊                                                                  | 701/5000 [18:00<1:53:31,  1.58s/it]"
     ]
    },
    {
     "name": "stdout",
     "output_type": "stream",
     "text": [
      "Episode 700, Steps 699, Reward 2.7082869338697066\n"
     ]
    },
    {
     "name": "stderr",
     "output_type": "stream",
     "text": [
      " 16%|████████████▎                                                                | 801/5000 [20:35<1:34:53,  1.36s/it]"
     ]
    },
    {
     "name": "stdout",
     "output_type": "stream",
     "text": [
      "Episode 800, Steps 314, Reward 50\n"
     ]
    },
    {
     "name": "stderr",
     "output_type": "stream",
     "text": [
      " 18%|█████████████▉                                                               | 901/5000 [23:12<1:53:15,  1.66s/it]"
     ]
    },
    {
     "name": "stdout",
     "output_type": "stream",
     "text": [
      "Episode 900, Steps 699, Reward 2.477284977628088\n"
     ]
    },
    {
     "name": "stderr",
     "output_type": "stream",
     "text": [
      " 20%|███████████████▏                                                            | 1001/5000 [25:47<1:52:34,  1.69s/it]"
     ]
    },
    {
     "name": "stdout",
     "output_type": "stream",
     "text": [
      "Episode 1000, Steps 699, Reward 3.9259258654874483\n"
     ]
    },
    {
     "name": "stderr",
     "output_type": "stream",
     "text": [
      " 22%|████████████████▋                                                           | 1101/5000 [28:15<1:28:45,  1.37s/it]"
     ]
    },
    {
     "name": "stdout",
     "output_type": "stream",
     "text": [
      "Episode 1100, Steps 699, Reward 2.4279860643518134\n"
     ]
    },
    {
     "name": "stderr",
     "output_type": "stream",
     "text": [
      " 24%|██████████████████▎                                                         | 1201/5000 [30:46<1:31:12,  1.44s/it]"
     ]
    },
    {
     "name": "stdout",
     "output_type": "stream",
     "text": [
      "Episode 1200, Steps 699, Reward 1.7558765532122464\n"
     ]
    },
    {
     "name": "stderr",
     "output_type": "stream",
     "text": [
      " 26%|███████████████████▊                                                        | 1301/5000 [33:14<1:22:18,  1.34s/it]"
     ]
    },
    {
     "name": "stdout",
     "output_type": "stream",
     "text": [
      "Episode 1300, Steps 699, Reward -1\n"
     ]
    },
    {
     "name": "stderr",
     "output_type": "stream",
     "text": [
      " 28%|█████████████████████▎                                                      | 1401/5000 [35:50<1:41:07,  1.69s/it]"
     ]
    },
    {
     "name": "stdout",
     "output_type": "stream",
     "text": [
      "Episode 1400, Steps 699, Reward 1.216368076478048\n"
     ]
    },
    {
     "name": "stderr",
     "output_type": "stream",
     "text": [
      " 30%|██████████████████████▊                                                     | 1501/5000 [38:09<1:22:58,  1.42s/it]"
     ]
    },
    {
     "name": "stdout",
     "output_type": "stream",
     "text": [
      "Episode 1500, Steps 699, Reward -5\n"
     ]
    },
    {
     "name": "stderr",
     "output_type": "stream",
     "text": [
      " 32%|████████████████████████▎                                                   | 1601/5000 [40:38<1:33:15,  1.65s/it]"
     ]
    },
    {
     "name": "stdout",
     "output_type": "stream",
     "text": [
      "Episode 1600, Steps 699, Reward -0.9080048813793731\n"
     ]
    },
    {
     "name": "stderr",
     "output_type": "stream",
     "text": [
      " 34%|█████████████████████████▊                                                  | 1701/5000 [42:59<1:16:26,  1.39s/it]"
     ]
    },
    {
     "name": "stdout",
     "output_type": "stream",
     "text": [
      "Episode 1700, Steps 699, Reward 2.2013264792508256\n"
     ]
    },
    {
     "name": "stderr",
     "output_type": "stream",
     "text": [
      " 36%|████████████████████████████                                                  | 1801/5000 [45:13<56:16,  1.06s/it]"
     ]
    },
    {
     "name": "stdout",
     "output_type": "stream",
     "text": [
      "Episode 1800, Steps 322, Reward 50\n"
     ]
    },
    {
     "name": "stderr",
     "output_type": "stream",
     "text": [
      " 38%|████████████████████████████▉                                               | 1901/5000 [47:24<1:03:00,  1.22s/it]"
     ]
    },
    {
     "name": "stdout",
     "output_type": "stream",
     "text": [
      "Episode 1900, Steps 565, Reward 50\n"
     ]
    },
    {
     "name": "stderr",
     "output_type": "stream",
     "text": [
      " 40%|███████████████████████████████▏                                              | 2001/5000 [49:29<58:30,  1.17s/it]"
     ]
    },
    {
     "name": "stdout",
     "output_type": "stream",
     "text": [
      "Episode 2000, Steps 623, Reward 50\n"
     ]
    },
    {
     "name": "stderr",
     "output_type": "stream",
     "text": [
      " 42%|████████████████████████████████▊                                             | 2101/5000 [51:32<58:02,  1.20s/it]"
     ]
    },
    {
     "name": "stdout",
     "output_type": "stream",
     "text": [
      "Episode 2100, Steps 699, Reward 2.236877861040064\n"
     ]
    },
    {
     "name": "stderr",
     "output_type": "stream",
     "text": [
      " 44%|██████████████████████████████████▎                                           | 2201/5000 [53:28<54:33,  1.17s/it]"
     ]
    },
    {
     "name": "stdout",
     "output_type": "stream",
     "text": [
      "Episode 2200, Steps 699, Reward -0.1981868171955039\n"
     ]
    },
    {
     "name": "stderr",
     "output_type": "stream",
     "text": [
      " 46%|███████████████████████████████████▉                                          | 2301/5000 [55:29<57:41,  1.28s/it]"
     ]
    },
    {
     "name": "stdout",
     "output_type": "stream",
     "text": [
      "Episode 2300, Steps 699, Reward -1\n"
     ]
    },
    {
     "name": "stderr",
     "output_type": "stream",
     "text": [
      " 48%|█████████████████████████████████████▍                                        | 2401/5000 [57:25<46:53,  1.08s/it]"
     ]
    },
    {
     "name": "stdout",
     "output_type": "stream",
     "text": [
      "Episode 2400, Steps 699, Reward -1\n"
     ]
    },
    {
     "name": "stderr",
     "output_type": "stream",
     "text": [
      " 50%|███████████████████████████████████████                                       | 2501/5000 [59:24<53:07,  1.28s/it]"
     ]
    },
    {
     "name": "stdout",
     "output_type": "stream",
     "text": [
      "Episode 2500, Steps 699, Reward -1\n"
     ]
    },
    {
     "name": "stderr",
     "output_type": "stream",
     "text": [
      " 52%|███████████████████████████████████████▌                                    | 2601/5000 [1:01:16<42:28,  1.06s/it]"
     ]
    },
    {
     "name": "stdout",
     "output_type": "stream",
     "text": [
      "Episode 2600, Steps 699, Reward -1\n"
     ]
    },
    {
     "name": "stderr",
     "output_type": "stream",
     "text": [
      " 54%|█████████████████████████████████████████                                   | 2701/5000 [1:03:11<44:53,  1.17s/it]"
     ]
    },
    {
     "name": "stdout",
     "output_type": "stream",
     "text": [
      "Episode 2700, Steps 699, Reward -0.38447187191169707\n"
     ]
    },
    {
     "name": "stderr",
     "output_type": "stream",
     "text": [
      " 56%|██████████████████████████████████████████▌                                 | 2801/5000 [1:05:00<43:18,  1.18s/it]"
     ]
    },
    {
     "name": "stdout",
     "output_type": "stream",
     "text": [
      "Episode 2800, Steps 591, Reward 50\n"
     ]
    },
    {
     "name": "stderr",
     "output_type": "stream",
     "text": [
      " 58%|████████████████████████████████████████████                                | 2901/5000 [1:06:52<41:37,  1.19s/it]"
     ]
    },
    {
     "name": "stdout",
     "output_type": "stream",
     "text": [
      "Episode 2900, Steps 699, Reward 0.5820189530525797\n"
     ]
    },
    {
     "name": "stderr",
     "output_type": "stream",
     "text": [
      " 60%|█████████████████████████████████████████████▌                              | 3001/5000 [1:08:45<31:39,  1.05it/s]"
     ]
    },
    {
     "name": "stdout",
     "output_type": "stream",
     "text": [
      "Episode 3000, Steps 697, Reward 50\n"
     ]
    },
    {
     "name": "stderr",
     "output_type": "stream",
     "text": [
      " 62%|███████████████████████████████████████████████▏                            | 3101/5000 [1:10:43<37:07,  1.17s/it]"
     ]
    },
    {
     "name": "stdout",
     "output_type": "stream",
     "text": [
      "Episode 3100, Steps 650, Reward 50\n"
     ]
    },
    {
     "name": "stderr",
     "output_type": "stream",
     "text": [
      " 64%|████████████████████████████████████████████████▋                           | 3201/5000 [1:12:42<29:09,  1.03it/s]"
     ]
    },
    {
     "name": "stdout",
     "output_type": "stream",
     "text": [
      "Episode 3200, Steps 224, Reward 50\n"
     ]
    },
    {
     "name": "stderr",
     "output_type": "stream",
     "text": [
      " 66%|██████████████████████████████████████████████████▏                         | 3301/5000 [1:14:27<28:55,  1.02s/it]"
     ]
    },
    {
     "name": "stdout",
     "output_type": "stream",
     "text": [
      "Episode 3300, Steps 338, Reward 50\n"
     ]
    },
    {
     "name": "stderr",
     "output_type": "stream",
     "text": [
      " 68%|███████████████████████████████████████████████████▋                        | 3401/5000 [1:16:16<29:13,  1.10s/it]"
     ]
    },
    {
     "name": "stdout",
     "output_type": "stream",
     "text": [
      "Episode 3400, Steps 630, Reward 50\n"
     ]
    },
    {
     "name": "stderr",
     "output_type": "stream",
     "text": [
      " 70%|█████████████████████████████████████████████████████▏                      | 3501/5000 [1:18:06<22:34,  1.11it/s]"
     ]
    },
    {
     "name": "stdout",
     "output_type": "stream",
     "text": [
      "Episode 3500, Steps 363, Reward 50\n"
     ]
    },
    {
     "name": "stderr",
     "output_type": "stream",
     "text": [
      " 72%|██████████████████████████████████████████████████████▋                     | 3601/5000 [1:19:55<20:14,  1.15it/s]"
     ]
    },
    {
     "name": "stdout",
     "output_type": "stream",
     "text": [
      "Episode 3600, Steps 187, Reward 50\n"
     ]
    },
    {
     "name": "stderr",
     "output_type": "stream",
     "text": [
      " 74%|████████████████████████████████████████████████████████▎                   | 3701/5000 [1:21:39<26:08,  1.21s/it]"
     ]
    },
    {
     "name": "stdout",
     "output_type": "stream",
     "text": [
      "Episode 3700, Steps 699, Reward -1\n"
     ]
    },
    {
     "name": "stderr",
     "output_type": "stream",
     "text": [
      " 76%|█████████████████████████████████████████████████████████▊                  | 3801/5000 [1:23:18<15:40,  1.27it/s]"
     ]
    },
    {
     "name": "stdout",
     "output_type": "stream",
     "text": [
      "Episode 3800, Steps 270, Reward 50\n"
     ]
    },
    {
     "name": "stderr",
     "output_type": "stream",
     "text": [
      " 78%|███████████████████████████████████████████████████████████▎                | 3901/5000 [1:24:58<15:39,  1.17it/s]"
     ]
    },
    {
     "name": "stdout",
     "output_type": "stream",
     "text": [
      "Episode 3900, Steps 307, Reward 50\n"
     ]
    },
    {
     "name": "stderr",
     "output_type": "stream",
     "text": [
      " 80%|████████████████████████████████████████████████████████████▊               | 4001/5000 [1:26:31<12:05,  1.38it/s]"
     ]
    },
    {
     "name": "stdout",
     "output_type": "stream",
     "text": [
      "Episode 4000, Steps 198, Reward 50\n"
     ]
    },
    {
     "name": "stderr",
     "output_type": "stream",
     "text": [
      " 82%|██████████████████████████████████████████████████████████████▎             | 4101/5000 [1:28:15<15:38,  1.04s/it]"
     ]
    },
    {
     "name": "stdout",
     "output_type": "stream",
     "text": [
      "Episode 4100, Steps 301, Reward 50\n"
     ]
    },
    {
     "name": "stderr",
     "output_type": "stream",
     "text": [
      " 84%|███████████████████████████████████████████████████████████████▊            | 4201/5000 [1:29:50<15:24,  1.16s/it]"
     ]
    },
    {
     "name": "stdout",
     "output_type": "stream",
     "text": [
      "Episode 4200, Steps 656, Reward 50\n"
     ]
    },
    {
     "name": "stderr",
     "output_type": "stream",
     "text": [
      " 86%|█████████████████████████████████████████████████████████████████▍          | 4301/5000 [1:31:25<13:42,  1.18s/it]"
     ]
    },
    {
     "name": "stdout",
     "output_type": "stream",
     "text": [
      "Episode 4300, Steps 635, Reward 50\n"
     ]
    },
    {
     "name": "stderr",
     "output_type": "stream",
     "text": [
      " 88%|██████████████████████████████████████████████████████████████████▉         | 4401/5000 [1:33:01<11:36,  1.16s/it]"
     ]
    },
    {
     "name": "stdout",
     "output_type": "stream",
     "text": [
      "Episode 4400, Steps 699, Reward -1\n"
     ]
    },
    {
     "name": "stderr",
     "output_type": "stream",
     "text": [
      " 90%|████████████████████████████████████████████████████████████████████▍       | 4501/5000 [1:34:32<07:18,  1.14it/s]"
     ]
    },
    {
     "name": "stdout",
     "output_type": "stream",
     "text": [
      "Episode 4500, Steps 292, Reward 50\n"
     ]
    },
    {
     "name": "stderr",
     "output_type": "stream",
     "text": [
      " 92%|█████████████████████████████████████████████████████████████████████▉      | 4601/5000 [1:36:08<05:52,  1.13it/s]"
     ]
    },
    {
     "name": "stdout",
     "output_type": "stream",
     "text": [
      "Episode 4600, Steps 356, Reward 50\n"
     ]
    },
    {
     "name": "stderr",
     "output_type": "stream",
     "text": [
      " 94%|███████████████████████████████████████████████████████████████████████▍    | 4701/5000 [1:37:40<05:00,  1.01s/it]"
     ]
    },
    {
     "name": "stdout",
     "output_type": "stream",
     "text": [
      "Episode 4700, Steps 395, Reward 50\n"
     ]
    },
    {
     "name": "stderr",
     "output_type": "stream",
     "text": [
      " 96%|████████████████████████████████████████████████████████████████████████▉   | 4801/5000 [1:39:14<03:25,  1.03s/it]"
     ]
    },
    {
     "name": "stdout",
     "output_type": "stream",
     "text": [
      "Episode 4800, Steps 444, Reward 50\n"
     ]
    },
    {
     "name": "stderr",
     "output_type": "stream",
     "text": [
      " 98%|██████████████████████████████████████████████████████████████████████████▍ | 4901/5000 [1:40:48<01:47,  1.09s/it]"
     ]
    },
    {
     "name": "stdout",
     "output_type": "stream",
     "text": [
      "Episode 4900, Steps 699, Reward -1\n"
     ]
    },
    {
     "name": "stderr",
     "output_type": "stream",
     "text": [
      "100%|████████████████████████████████████████████████████████████████████████████| 5000/5000 [1:42:24<00:00,  1.23s/it]\n"
     ]
    },
    {
     "name": "stdout",
     "output_type": "stream",
     "text": [
      "Training complete.\n",
      "Models saved: ppo_policy7.pth, ppo_value7.pth\n"
     ]
    },
    {
     "data": {
      "image/png": "[encoded data removed]",
      "text/plain": [
       "<Figure size 1200x500 with 2 Axes>"
      ]
     },
     "metadata": {},
     "output_type": "display_data"
    }
   ],
   "source": [
    "import numpy as np\n",
    "import random\n",
    "import torch\n",
    "import torch.nn as nn\n",
    "import torch.optim as optim\n",
    "from torch.distributions import Categorical\n",
    "from tqdm import tqdm\n",
    "import matplotlib.pyplot as plt\n",
    "\n",
    "# 학습\n",
    "num_episodes = 5000\n",
    "max_steps = 700\n",
    "\n",
    "rewards_list = []\n",
    "steps_list = []\n",
    "\n",
    "for episode in tqdm(range(num_episodes)):  # tqdm을 사용하여 진행률 표시\n",
    "    env = GridEnvironment(random.choice(environments))  # 랜덤한 환경 선택\n",
    "    state = env.reset()\n",
    "    trajectory = []\n",
    "\n",
    "    episode_reward = 0\n",
    "    for step in range(max_steps):\n",
    "        action, log_prob = ppo.select_action(state)\n",
    "        next_state, reward, done = env.step(action)\n",
    "        mask = 0 if done else 1\n",
    "\n",
    "        trajectory.append((state, action, log_prob, reward, mask))\n",
    "\n",
    "        state = next_state\n",
    "        episode_reward += reward\n",
    "\n",
    "        if done:\n",
    "            break\n",
    "\n",
    "    ppo.update(trajectory)\n",
    "\n",
    "    rewards_list.append(episode_reward)\n",
    "    steps_list.append(step + 1)\n",
    "\n",
    "    if episode % 100 == 0:\n",
    "        print(f'Episode {episode}, Steps {step}, Reward {reward}')\n",
    "\n",
    "print(\"Training complete.\")\n",
    "\n",
    "# 학습된 모델 저장\n",
    "policy_path = \"ppo_policy7.pth\"\n",
    "value_path = \"ppo_value7.pth\"\n",
    "\n",
    "torch.save(policy.state_dict(), policy_path)\n",
    "torch.save(value.state_dict(), value_path)\n",
    "\n",
    "print(f\"Models saved: {policy_path}, {value_path}\")\n",
    "\n",
    "# 모델 로드\n",
    "# policy_loaded = PPOPolicy(input_dim, output_dim)\n",
    "# value_loaded = ValueNetwork(input_dim)\n",
    "\n",
    "# policy_loaded.load_state_dict(torch.load(policy_path))\n",
    "# value_loaded.load_state_dict(torch.load(value_path))\n",
    "\n",
    "# print(\"Models loaded successfully.\")\n",
    "\n",
    "# 학습 결과 시각화\n",
    "plt.figure(figsize=(12, 5))\n",
    "\n",
    "plt.subplot(1, 2, 1)\n",
    "plt.plot(rewards_list)\n",
    "plt.xlabel('Episode')\n",
    "plt.ylabel('Total Reward')\n",
    "plt.title('Training: Total Reward per Episode')\n",
    "\n",
    "plt.subplot(1, 2, 2)\n",
    "plt.plot(steps_list)\n",
    "plt.xlabel('Episode')\n",
    "plt.ylabel('Steps')\n",
    "plt.title('Training: Steps per Episode')\n",
    "\n",
    "plt.show()"
   ]
  },
  {
   "cell_type": "code",
   "execution_count": 5,
   "metadata": {},
   "outputs": [
    {
     "name": "stdout",
     "output_type": "stream",
     "text": [
      "Averaged rewards list: [289.5666424824247, 151.17111668645683, 18.05826239396138, 90.76088095083078, 148.8732723951135, 168.80096479100916, 169.3047667292189]\n",
      "Averaged steps list: [653.56125, 625.1275, 604.15, 564.8325, 507.64375, 466.1075, 461.68]\n"
     ]
    }
   ],
   "source": [
    "def calculate_averages(lst, chunk_size):\n",
    "    return [np.mean(lst[i:i + chunk_size]) for i in range(0, len(lst), chunk_size)]\n",
    "    \n",
    "rewards_avg_list = calculate_averages(rewards_list, 800)\n",
    "steps_avg_list = calculate_averages(steps_list, 800)\n",
    "\n",
    "print(\"Averaged rewards list:\", rewards_avg_list)\n",
    "print(\"Averaged steps list:\", steps_avg_list)\n",
    "\n",
    "# rewards_list를 문자열로 변환하여 파일에 쓰기\n",
    "with open('rewards_avg_list9.txt', 'w') as f:\n",
    "    f.write('\\n'.join(map(str, rewards_avg_list)))\n",
    "\n",
    "# steps_list를 문자열로 변환하여 파일에 쓰기\n",
    "with open('steps_avg_list9.txt', 'w') as q:\n",
    "    q.write('\\n'.join(map(str, steps_avg_list)))"
   ]
  },
  {
   "cell_type": "code",
   "execution_count": 14,
   "metadata": {},
   "outputs": [
    {
     "name": "stdout",
     "output_type": "stream",
     "text": [
      "steps_avg_list 554.7289285714286\n",
      "rewards_avg_list 148.0765580612879\n"
     ]
    }
   ],
   "source": [
    "sum=0\n",
    "for i in steps_avg_list:\n",
    "    sum += i\n",
    "print(\"steps_avg_list\",sum/len(rewards_avg_list))\n",
    "\n",
    "sum=0\n",
    "for i in rewards_avg_list:\n",
    "    sum += i\n",
    "print(\"rewards_avg_list\",sum/len(rewards_avg_list))\n",
    "\n"
   ]
  },
  {
   "cell_type": "code",
   "execution_count": 8,
   "metadata": {},
   "outputs": [
    {
     "name": "stdout",
     "output_type": "stream",
     "text": [
      "Evaluation over 10000 episodes: Average Reward: 179.25968896425042, Average Steps: 465.983\n"
     ]
    },
    {
     "data": {
      "image/png": "[encoded data removed]",
      "text/plain": [
       "<Figure size 1200x500 with 2 Axes>"
      ]
     },
     "metadata": {},
     "output_type": "display_data"
    },
    {
     "data": {
      "image/png": "[encoded data removed]",
      "text/plain": [
       "<Figure size 1200x500 with 1 Axes>"
      ]
     },
     "metadata": {},
     "output_type": "display_data"
    }
   ],
   "source": [
    "# 정책 평가 함수\n",
    "def evaluate_policy(envs, policy, num_episodes=1000, max_steps=800):\n",
    "    policy.eval()\n",
    "    total_rewards = []\n",
    "    total_steps = []\n",
    "\n",
    "    with torch.no_grad():\n",
    "        for episode in range(num_episodes):\n",
    "            env = GridEnvironment(envs)  \n",
    "            state = env.reset()\n",
    "            episode_reward = 0\n",
    "            for step in range(max_steps):\n",
    "                action, _ = ppo.select_action(state)\n",
    "                next_state, reward, done = env.step(action)\n",
    "                episode_reward += reward\n",
    "                state = next_state\n",
    "                if done:\n",
    "                    break\n",
    "            total_rewards.append(episode_reward)\n",
    "            total_steps.append(step + 1)\n",
    "\n",
    "    avg_reward = np.mean(total_rewards)\n",
    "    avg_steps = np.mean(total_steps)\n",
    "\n",
    "    print(f\"Evaluation over {num_episodes} episodes: Average Reward: {avg_reward}, Average Steps: {avg_steps}\")\n",
    "\n",
    "    plt.figure(figsize=(12, 5))\n",
    "\n",
    "    plt.subplot(1, 2, 1)\n",
    "    plt.plot(total_rewards)\n",
    "    plt.xlabel('Episode')\n",
    "    plt.ylabel('Total Reward')\n",
    "    plt.title('Evaluation: Total Reward per Episode')\n",
    "\n",
    "    plt.subplot(1, 2, 2)\n",
    "    plt.plot(total_steps)\n",
    "    plt.xlabel('Episode')\n",
    "    plt.ylabel('Steps')\n",
    "    plt.title('Evaluation: Steps per Episode')\n",
    "\n",
    "    plt.show()\n",
    "\n",
    "    # 행동 패턴 시각화 추가\n",
    "    visualize_behavior(total_rewards, total_steps)\n",
    "\n",
    "def visualize_behavior(total_rewards, total_steps):\n",
    "    plt.figure(figsize=(12, 5))\n",
    "    plt.scatter(total_steps, total_rewards)\n",
    "    plt.xlabel('Steps')\n",
    "    plt.ylabel('Total Reward')\n",
    "    plt.title('Behavior Visualization')\n",
    "    plt.show()\n",
    "\n",
    "# 학습된 정책 평가\n",
    "evaluate_policy(eval, policy, num_episodes=10000, max_steps=800)"
   ]
  },
  {
   "cell_type": "raw",
   "metadata": {},
   "source": [
    "ppo_policy ppo_value rewards_avg_list3 steps_avg_list3 \n",
    "하이퍼파라미터\n",
    "policy_lr=1e-5, value_lr=1e-5, gamma=0.99, clip_ratio=0.2\n",
    "num_episodes = 10000\n",
    "max_steps = 1000"
   ]
  },
  {
   "cell_type": "raw",
   "metadata": {},
   "source": [
    "ppo_policy2 ppo_value2 rewards_avg_list4 steps_avg_list4 \n",
    "하이퍼파라미터\n",
    "policy_lr=1e-6, value_lr=1e-6, gamma=0.90, clip_ratio=0.2\n",
    "num_episodes = 10000\n",
    "max_steps = 1000\n",
    "이게 더 좋네"
   ]
  },
  {
   "cell_type": "raw",
   "metadata": {},
   "source": [
    "ppo_policy3 ppo_value3 rewards_avg_list5 steps_avg_list5 \n",
    "하이퍼파라미터\n",
    "policy_lr=1e-6, value_lr=1e-6, gamma=0.90, clip_ratio=0.3\n",
    "num_episodes = 10000\n",
    "max_steps = 800\n",
    "이게 더 좋네"
   ]
  },
  {
   "cell_type": "raw",
   "metadata": {},
   "source": [
    "ppo_policy4 ppo_value4 rewards_avg_list6 steps_avg_list6 \n",
    "하이퍼파라미터\n",
    "policy_lr=1e-6, value_lr=1e-6, gamma=0.90, clip_ratio=0.4\n",
    "num_episodes = 10000\n",
    "max_steps = 700\n",
    "이게 더 좋네"
   ]
  },
  {
   "cell_type": "raw",
   "metadata": {},
   "source": [
    "ppo_policy5 ppo_value5 rewards_avg_list7 steps_avg_list7 \n",
    "하이퍼파라미터\n",
    "policy_lr=1e-6, value_lr=1e-3, gamma=0.90, clip_ratio=0.4\n",
    "num_episodes = 10000\n",
    "max_steps = 700\n",
    "이게 더 좋네"
   ]
  },
  {
   "cell_type": "raw",
   "metadata": {},
   "source": [
    "ppo_policy6 ppo_value6 rewards_avg_list8 steps_avg_list8 \n",
    "하이퍼파라미터\n",
    "policy_lr=1e-6, value_lr=1e-3, gamma=0.90, clip_ratio=0.4\n",
    "num_episodes = 10000\n",
    "max_steps = 700\n",
    "이게 더 좋네"
   ]
  },
  {
   "cell_type": "raw",
   "metadata": {},
   "source": [
    "ppo_policy7 ppo_value7 rewards_avg_list9 steps_avg_list9 \n",
    "하이퍼파라미터\n",
    "policy_lr=1e-7, value_lr=1e-7, gamma=0.90, clip_ratio=0.2\n",
    "num_episodes = 50000\n",
    "max_steps = 700\n",
    "이게 더 좋네"
   ]
  }
 ],
 "metadata": {
  "kernelspec": {
   "display_name": "rein",
   "language": "python",
   "name": "rein"
  },
  "language_info": {
   "codemirror_mode": {
    "name": "ipython",
    "version": 3
   },
   "file_extension": ".py",
   "mimetype": "text/x-python",
   "name": "python",
   "nbconvert_exporter": "python",
   "pygments_lexer": "ipython3",
   "version": "3.9.18"
  }
 },
 "nbformat": 4,
 "nbformat_minor": 4
}
